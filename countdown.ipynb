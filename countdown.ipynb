{
 "cells": [
  {
   "cell_type": "markdown",
   "metadata": {},
   "source": [
    "# Countdown & Computational Theory\n",
    "#### By Killian O'Suilleabhain"
   ]
  },
  {
   "cell_type": "markdown",
   "metadata": {},
   "source": [
    "# Table of Contents\n",
    "* [Introduction](#chapter1)\n",
    "    * [What is the Countdown](#section_1_1)\n",
    "    * [What is the Number Game](#section_1_2)\n",
    "        * [Rules](#sub_section_1_2_1)\n",
    "* [Complexity](#chapter2)\n",
    "    * [Section 2.1](#section_2_1)\n",
    "* [Chapter 3](#chapter3)\n",
    "    * [Section 3.1](#section_3_1)\n",
    "    \n",
    "* [References](#chapterX)\n",
    "    * [Other References](#section_3_1)"
   ]
  },
  {
   "cell_type": "markdown",
   "metadata": {},
   "source": [
    "## Introduction <a class=\"anchor\" id=\"chapter1\"></a>\n",
    "In this Jupyter notebook, our primary aim is to dissect and resolve the numbers game featured in the Countdown TV program. Through the application of diverse computational methods, we will provide detailed explanations for each step involved in the solution process. Furthermore, our exploration extends to investigating the computational complexity inherent in the game, contributing valuable insights to ongoing research in this domain."
   ]
  },
  {
   "cell_type": "markdown",
   "metadata": {},
   "source": [
    "### What is the Countdown <a id=\"section_1_1\"></a>\n",
    "Countdowm is a popular british TV show which has been broadcast on Channel 4 since 1982 with this it has had over 8000 episodes and is one of Britains most beloved shows with its fun attitude and its catchy 30 secound timer. Countdown consists of the letters rounds, in which they attempt to make the longest word possible from nine randomly chosen letters. The numbers rounds, in which they must use arithmetic to reach a random target figure from six other numbers. Finally the conundrum in which the contestants compete to solve a nine-letter anagram.  "
   ]
  },
  {
   "cell_type": "markdown",
   "metadata": {},
   "source": [
    "### What is the Number Game <a id=\"section_1_2\"></a>\n",
    "In the numbers game contestants are presented with a selection of six numbers and a target number between 101 and 999. The goal is to use the six numbers through basic arithmetic operations addition, subtraction, multiplication, and division to reach the target number or be the closest to it. Contestants can use each of the six numbers exactly once, and they must use at least one of the basic operations in their solution.\n",
    "\n",
    "Here is an example of the numbers game. [Youtube](https://youtu.be/dkiXHV0Nxsg?si=l7kwSio8dLjpPtYp)\n",
    "\n",
    "#### Rules <a id=\"sub_section_1_2_1\"></a>\n",
    "**Number Selection:**  \n",
    "At the start of the Numbers Round, the contestant is presented with a selection of six numbers. The selection typically consists of a mix of large numbers (25, 50, 75, or 100) and small numbers (1 to 10). The numbers are randomly selected and there are two instances of the small numbers but not the large\n",
    "\n",
    "**Target Number:**  \n",
    "Along with the six numbers, a three-digit target number is randomly generated and revealed to the contestants. This number is between 101 and 999.\n",
    "\n",
    "**Objective:**  \n",
    "The goal of the Numbers Round is for the contestant to use the six given numbers, through basic arithmetic operations, to reach the target number.\n",
    "\n",
    "**Number Usage:**  \n",
    "Each of the six numbers must be used exactly once in the solution. Contestants can use any combination of addition, subtraction, multiplication, and division to manipulate the numbers.\n",
    "\n",
    "**Time Limit:**  \n",
    "Contestants have 30 seconds to come up with a solution and reach the target number. The clock starts ticking as soon as the target number is revealed.\n",
    "\n",
    "**Scoring:**  \n",
    "Points are awarded based on how close the contestant gets to the target number.\n",
    "The contestant can score maximum points for an exact solution, and partial points may be awarded based on proximity to the target.\n",
    "Validity of Solutions:\n",
    "\n",
    "Solutions must be valid mathematical expressions.\n",
    "\n",
    "Decimals and fractions are not allowed unless they can be expressed as whole numbers."
   ]
  },
  {
   "cell_type": "code",
   "execution_count": 4,
   "metadata": {},
   "outputs": [
    {
     "name": "stdout",
     "output_type": "stream",
     "text": [
      "[25, 4, 5, 7, 3]\n"
     ]
    }
   ],
   "source": [
    "import random\n",
    "\n",
    "numbers = [1, 1, 2, 2, 3, 3, 4, 4, 5, 5, 6, 6, 7, 7, 8, 8, 9, 9, 10, 10, 25, 50, 75, 100]\n",
    "selected_numbers = random.sample(numbers, 5)\n",
    "\n",
    "print(selected_numbers)"
   ]
  },
  {
   "cell_type": "markdown",
   "metadata": {},
   "source": [
    "## How to Solve <a class=\"anchor\" id=\"chapter2\"></a>"
   ]
  },
  {
   "cell_type": "markdown",
   "metadata": {},
   "source": [
    "## References <a class=\"anchor\" id=\"chapterX\"></a>\n",
    "[1] https://en.wikipedia.org/wiki/Countdown_(game_show)  \n",
    "[2] https://wiki.apterous.org/Numbers_game  \n",
    "[3] https://www.daitx.com/2016/05/01/countdown-math/\n",
    "\n",
    "### Other Referneces <a id=\"section_3_1\"></a>\n",
    "https://youtu.be/RZabMOCM6uE?si=JfJjOHf05wE4VYfc - Full Countdown Episode  \n",
    "https://youtu.be/dkiXHV0Nxsg?si=l7kwSio8dLjpPtYp - Number Game Example"
   ]
  }
 ],
 "metadata": {
  "kernelspec": {
   "display_name": "Python 3",
   "language": "python",
   "name": "python3"
  },
  "language_info": {
   "codemirror_mode": {
    "name": "ipython",
    "version": 3
   },
   "file_extension": ".py",
   "mimetype": "text/x-python",
   "name": "python",
   "nbconvert_exporter": "python",
   "pygments_lexer": "ipython3",
   "version": "3.12.0"
  }
 },
 "nbformat": 4,
 "nbformat_minor": 2
}
