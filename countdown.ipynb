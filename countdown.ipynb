{
 "cells": [
  {
   "cell_type": "markdown",
   "metadata": {},
   "source": [
    "# Countdown & Computational Theory\n",
    "#### By Killian O'Suilleabhain"
   ]
  },
  {
   "cell_type": "markdown",
   "metadata": {},
   "source": [
    "# Table of Contents\n",
    "* [Introduction](#chapter1)\n",
    "    * [What is the Countdown](#section_1_1)\n",
    "    * [What is the Number Game](#section_1_2)\n",
    "        * [Rules](#sub_section_1_2_1)\n",
    "* [Complexity](#chapter2)\n",
    "    * [What is Computational Complexity](#section_2_1)\n",
    "    * [The Game Complexity](#section_2_2)\n",
    "* [Chapter 3](#chapter3)\n",
    "    * [Section 3.1](#section_3_1)\n",
    "    \n",
    "* [References](#chapterX)\n",
    "    * [Other References](#section_3_1)"
   ]
  },
  {
   "cell_type": "markdown",
   "metadata": {},
   "source": [
    "## Introduction <a class=\"anchor\" id=\"chapter1\"></a>\n",
    "In this Jupyter notebook, our primary aim is to dissect and resolve the numbers game featured in the Countdown TV program. Through the application of diverse computational methods, we will provide detailed explanations for each step involved in the solution process. Furthermore, our exploration extends to investigating the computational complexity inherent in the game, contributing valuable insights to ongoing research in this domain."
   ]
  },
  {
   "cell_type": "markdown",
   "metadata": {},
   "source": [
    "### What is the Countdown <a id=\"section_1_1\"></a>\n",
    "Countdown is a popular british TV show which has been broadcast on Channel 4 since 1982 with this it has had over 8000 episodes and is one of Britains most beloved shows with its fun attitude and its catchy 30 secound timer. Countdown consists of the letters rounds, in which they attempt to make the longest word possible from nine randomly chosen letters. The numbers rounds, in which they must use arithmetic to reach a random target figure from six other numbers. Finally the conundrum in which the contestants compete to solve a nine-letter anagram.  "
   ]
  },
  {
   "cell_type": "markdown",
   "metadata": {},
   "source": [
    "### What is the Number Game <a id=\"section_1_2\"></a>\n",
    "In the numbers game contestants are presented with a selection of six numbers and a target number between 101 and 999. The goal is to use the six numbers through basic arithmetic operations addition, subtraction, multiplication, and division to reach the target number or be the closest to it. Contestants can use each of the six numbers exactly once, and they must use at least one of the basic operations in their solution.\n",
    "\n",
    "Here is an example of the numbers game. [Youtube](https://youtu.be/dkiXHV0Nxsg?si=l7kwSio8dLjpPtYp)\n",
    "\n",
    "#### Rules <a id=\"sub_section_1_2_1\"></a>\n",
    "**Number Selection:**  \n",
    "At the start of the Numbers Round, the contestant is presented with a selection of six numbers. The selection typically consists of a mix of large numbers (25, 50, 75, or 100) and small numbers (1 to 10). The numbers are randomly selected and there are two instances of the small numbers but not the large\n",
    "\n",
    "**Target Number:**  \n",
    "Along with the six numbers, a three-digit target number is randomly generated and revealed to the contestants. This number is between 101 and 999.\n",
    "\n",
    "**Objective:**  \n",
    "The goal of the Numbers Round is for the contestant to use the six given numbers, through basic arithmetic operations, to reach the target number.\n",
    "\n",
    "**Number Usage:**  \n",
    "Each of the six numbers must be used exactly once in the solution. Contestants can use any combination of addition, subtraction, multiplication, and division to manipulate the numbers.\n",
    "\n",
    "**Time Limit:**  \n",
    "Contestants have 30 seconds to come up with a solution and reach the target number. The clock starts ticking as soon as the target number is revealed.\n",
    "\n",
    "**Scoring:**  \n",
    "Points are awarded based on how close the contestant gets to the target number.\n",
    "The contestant can score maximum points for an exact solution, and partial points may be awarded based on proximity to the target.\n",
    "Validity of Solutions:\n",
    "\n",
    "Solutions must be valid mathematical expressions.\n",
    "\n",
    "Decimals and fractions are not allowed unless they can be expressed as whole numbers."
   ]
  },
  {
   "cell_type": "markdown",
   "metadata": {},
   "source": [
    "## Computational Theory & Complexity <a class=\"anchor\" id=\"chapter2\"></a>\n"
   ]
  },
  {
   "cell_type": "markdown",
   "metadata": {},
   "source": [
    "### What is the Computational Theory <a id=\"section_2_1\"></a>"
   ]
  },
  {
   "cell_type": "markdown",
   "metadata": {},
   "source": [
    "Computational theory, is a branch of theoretical computer science that studies algorithms, computability, and complexity. It seeks to understand the fundamental principles underlying computation and to explore the capabilities and limitations of computational systems. Computaional theory includes topics such as automata theory, formal languages, Turing machines, and the Church-Turing thesis."
   ]
  },
  {
   "cell_type": "markdown",
   "metadata": {},
   "source": [
    "### What is the Computational Complexity <a id=\"section_2_1\"></a>"
   ]
  },
  {
   "cell_type": "markdown",
   "metadata": {},
   "source": [
    "Computational complexity refers to the study of the resources (such as time, memory, and other computational resources) needed to solve computational problems. It provides a framework for analyzing the efficiency of algorithms in solving these problems. The two main aspects to computaional complexity include time complexity and space complexity.\n",
    "\n",
    "**Time Complexity:**  \n",
    "Time complexity meassures the amount of time an algorithm takes depending on the size of the input. This helps determine the efficancy of the algorithm.\n",
    "\n",
    "**Space Complexity:**  \n",
    "Space complexity meassures the amount of memory used by an algorithm when trying to solve a problem this also in respect to the size of the input. \n",
    "\n",
    "Complexity classes, such as P (polynomial time), NP (nondeterministic polynomial time), and NP-hard, classify problems according to their computational complexity. Problems that can be solved in polynomial time (P) are typically seen as efficient, whereas those requiring exponential time (such as many NP problems) are regarded as inefficient, especially for large inputs.\n",
    "\n",
    "**P (polynomial time)**  \n",
    "Polynomial time signifies that the algorithm's running time is limited by a polynomial function of the input size.\n",
    "\n",
    "**NP Classes**  \n",
    "The NP class, which stands for \"nondeterministic polynomial time,\" encompasses all decision problems that can be verified in polynomial time by a nondeterministic algorithm. A nondeterministic algorithm is capable of making \"guesses\" and verifying their correctness in polynomial time.\n"
   ]
  },
  {
   "cell_type": "markdown",
   "metadata": {},
   "source": [
    "### The Game Complexity <a id=\"section_2_2\"></a>"
   ]
  },
  {
   "cell_type": "markdown",
   "metadata": {},
   "source": [
    "The game complexity behind the Countdown Numbers Game is tricky as you are to consider how many numbers you're dealing with, the rules of the game, and the fact that you're working against the clock to find the best solution. The game complexity can be analyized knowing the following.\n",
    "\n",
    "**Search Space Complexity:** \n",
    "In the Countdown Numbers Game, players search through a bunch of possible math expressions using the given numbers and math symbols. The amount of options having to be checked depends the different numbers you start with, the number you're aiming for, and which math operations you're allowed to use.\n",
    "\n",
    "**Combinatorial Complexity:**  \n",
    "Conestants can mix numbers in lots of ways and use different math operations in different orders. As you add more numbers, the number of possible ways to combine and calculate them can shoot up really fast. This explosion of possibilities makes it tough to find the right answer before time runs out.\n",
    "\n",
    "**Arithmetic Complexity:**\n",
    "The arithmetic operations (addition, subtraction, multiplication, and division) allowed in the game introduce additional complexity. For example, division must always result in a whole number, and subtraction can only be used when it leads to a positive result. These constraints further restrict the space of valid solutions and add computational overhead.\n",
    "\n",
    "**Optimization Complexity:**\n",
    "A goal of the game is to figure out the equation using the fewest amount of operations. So to reach the number the algorithm must attempt to solve the equaition in as little operations as possible. This adds another layer of complexity, as it requires evaluating and comparing multiple possible expressions."
   ]
  },
  {
   "cell_type": "markdown",
   "metadata": {},
   "source": [
    "## Reverse Polish Notation <a id=\"section_2_2\"></a>\n",
    "Reverse Polish Notation (RPN) is a mathematical notation scheme where operators come after their operands in expressions. The use of RPN simplifies computations for computers removing parentheses and specific rules as long as each operator has a fixed number of operands. This approach makes a common ground where all calculations will be done in a particular way.\n",
    "\n",
    "In RPN, operands are followed by their operators. For instance, to add 4 and 9, you would write \"4 9 +\" instead of \"4 + 9\". Similarly, the expression \"4 - 9 + 5\" in conventional notation becomes \"4 9 - 5 +\" in Reverse Polish notation: first, 9 is subtracted from 4, then 5 is added to the result."
   ]
  },
  {
   "cell_type": "markdown",
   "metadata": {},
   "source": [
    "### RPN & Countdown <a id=\"section_2_2\"></a>\n",
    "In the Countdown Numbers Game, RPN can be used to represent and manipulate arithmetic expressions efficiently. Where we can convert the given arithmetic expressions into RPN and then evaluate them using a stack-based algorithm. This will simplify the approach and make it more efficent.\n",
    "\n",
    "RPN simultaniously reduce's the memory usage (Space Complexity) and amount of time (Time Compexity) it takes / needs in comparison to not using it."
   ]
  },
  {
   "cell_type": "markdown",
   "metadata": {},
   "source": [
    "## Algorithm Techniques <a class=\"anchor\" id=\"chapter3\"></a>"
   ]
  },
  {
   "cell_type": "markdown",
   "metadata": {},
   "source": [
    "### Brute Force Algorithm <a id=\"section_2_2\"></a>\n",
    "Brute force Algorithms is an approach in which entails a computer running through every imagineable combination for example within the Countdown Numbers Game this algorithm will prompt the computer to try every equation possible with the use of the selected numbers to find the target number.\n",
    "\n",
    "This approach is unlikely to be completed within the time limit of the game and can also computationally expensive."
   ]
  },
  {
   "cell_type": "markdown",
   "metadata": {},
   "source": [
    "### Back Tracking Algorithm <a id=\"section_2_2\"></a>"
   ]
  },
  {
   "cell_type": "markdown",
   "metadata": {},
   "source": [
    "### A* Algorithm <a id=\"section_2_2\"></a>"
   ]
  },
  {
   "cell_type": "markdown",
   "metadata": {},
   "source": [
    "## How to Solve <a class=\"anchor\" id=\"chapter3\"></a>"
   ]
  },
  {
   "cell_type": "markdown",
   "metadata": {},
   "source": [
    "To solve the equation first we must get the 5 randomly generated numbers as mentioned previously the possible numbers we could get are 1-10 and then 25, 50, 75, 100. The numbers 1-10 can show up twice.\n",
    "\n",
    "In the code below we import the module random which will randomly select 5 numbers and also randomly select the target number which is set between 101 and 999"
   ]
  },
  {
   "cell_type": "code",
   "execution_count": 26,
   "metadata": {},
   "outputs": [],
   "source": [
    "import random"
   ]
  },
  {
   "cell_type": "code",
   "execution_count": 27,
   "metadata": {},
   "outputs": [
    {
     "name": "stdout",
     "output_type": "stream",
     "text": [
      "[6, 10, 5, 5, 6]\n"
     ]
    }
   ],
   "source": [
    "# Array with every number that can be chosen \n",
    "numbers = [1, 1, 2, 2, 3, 3, 4, 4, 5, 5, 6, 6, 7, 7, 8, 8, 9, 9, 10, 10, 25, 50, 75, 100]\n",
    "# Randomly selects 5 numbers from the above \"numbers\" array\n",
    "selected_numbers = random.sample(numbers, 5)\n",
    "\n",
    "#Print the 5 Selected Numbers\n",
    "print(selected_numbers)"
   ]
  },
  {
   "cell_type": "code",
   "execution_count": 36,
   "metadata": {},
   "outputs": [
    {
     "name": "stdout",
     "output_type": "stream",
     "text": [
      "615\n"
     ]
    }
   ],
   "source": [
    "# Generates the target number at random between 101 and 999\n",
    "target_number = random.randint(101, 999)\n",
    "\n",
    "print(target_number)"
   ]
  },
  {
   "cell_type": "code",
   "execution_count": 39,
   "metadata": {},
   "outputs": [
    {
     "name": "stdout",
     "output_type": "stream",
     "text": [
      "Final Solution:\n",
      "Expression: 10 6 5 5 6\n",
      "Operations: + * + *\n",
      "Target: 610\n"
     ]
    }
   ],
   "source": [
    "import itertools\n",
    "\n",
    "def rpn_eval(expression):\n",
    "    stack = []\n",
    "    for token in expression:\n",
    "        if token.isdigit():\n",
    "            stack.append(int(token))\n",
    "        else:\n",
    "            b, a = stack.pop(), stack.pop()\n",
    "            if token == '+':\n",
    "                stack.append(a + b)\n",
    "            elif token == '-':\n",
    "                stack.append(a - b)\n",
    "            elif token == '*':\n",
    "                stack.append(a * b)\n",
    "            elif token == '/' and b != 0:\n",
    "                stack.append(a / b)\n",
    "            else:\n",
    "                return None  # Division by zero or invalid operation\n",
    "    return stack[0] if len(stack) == 1 else None\n",
    "\n",
    "def generate_expressions(numbers):\n",
    "    for r in range(2, len(numbers) + 1):\n",
    "        for expression in itertools.permutations(numbers, r):\n",
    "            for ops in itertools.product('+-*/', repeat=r - 1):\n",
    "                yield expression, ops\n",
    "\n",
    "def solve_countdown(numbers, target):\n",
    "    for expression, ops in generate_expressions(numbers):\n",
    "        for p in itertools.permutations(ops):\n",
    "            rpn_expression = [str(x) for x in expression + p]\n",
    "            result = rpn_eval(rpn_expression)\n",
    "            if result and target - 5 <= result <= target + 5:\n",
    "                return expression, p, result\n",
    "    return None\n",
    "\n",
    "# # Array with every number that can be chosen\n",
    "# numbers = [1, 1, 2, 2, 3, 3, 4, 4, 5, 5, 6, 6, 7, 7, 8, 8, 9, 9, 10, 10, 25, 50, 75, 100]\n",
    "# # Randomly selects 5 numbers from the above \"numbers\" array\n",
    "# selected_numbers = random.sample(numbers, 5)\n",
    "# # Generates the target number at random between 101 and 999\n",
    "# target_number = random.randint(101, 999)\n",
    "\n",
    "# print(\"Selected Numbers:\", selected_numbers)\n",
    "# print(\"Target Number:\", target_number)\n",
    "\n",
    "solution = solve_countdown(selected_numbers, target_number)\n",
    " if solution:\n",
    "     expression, ops, target = solution\n",
    "     print(\"Final Solution:\", \" \".join(map(str, expression + ops)), \"=\", target)\n",
    "else:\n",
    "    print(\"No solution found.\")\n",
    "\n",
    "\n",
    "# if solution:\n",
    "#     expression, ops, target = solution\n",
    "#     infix_expression = ' '.join(map(str, expression))\n",
    "#     infix_ops = ' '.join(map(str, ops))\n",
    "#     print(\"Final Solution:\")\n",
    "#     print(\"Expression:\", infix_expression)\n",
    "#     print(\"Operations:\", infix_ops)\n",
    "#     print(\"Target:\", target)\n",
    "# else:\n",
    "#     print(\"No solution found.\")\n"
   ]
  },
  {
   "cell_type": "markdown",
   "metadata": {},
   "source": [
    "## References <a class=\"anchor\" id=\"chapterX\"></a>\n",
    "[1] \n",
    "   \n",
    "https://en.wikipedia.org/wiki/Countdown_(game_show)  \n",
    "https://wiki.apterous.org/Numbers_game  \n",
    "https://www.daitx.com/2016/05/01/countdown-math/\n",
    "\n",
    "https://medium.com/@ajin.sunny/complexity-classes-not-just-your-regular-big-o-9cb217097ed9\n",
    "\n",
    "https://en.wikipedia.org/wiki/Reverse_Polish_notation\n",
    "\n",
    "https://medium.com/@benkaddourmed54/how-desperate-is-the-brute-force-algorithm-01a2da0951d8\n",
    "\n",
    "\n",
    "\n",
    "### Other Referneces <a id=\"section_3_1\"></a>\n",
    "https://youtu.be/RZabMOCM6uE?si=JfJjOHf05wE4VYfc - Full Countdown Episode  \n",
    "https://youtu.be/dkiXHV0Nxsg?si=l7kwSio8dLjpPtYp - Number Game Example"
   ]
  }
 ],
 "metadata": {
  "kernelspec": {
   "display_name": "Python 3",
   "language": "python",
   "name": "python3"
  },
  "language_info": {
   "codemirror_mode": {
    "name": "ipython",
    "version": 3
   },
   "file_extension": ".py",
   "mimetype": "text/x-python",
   "name": "python",
   "nbconvert_exporter": "python",
   "pygments_lexer": "ipython3",
   "version": "3.12.0"
  }
 },
 "nbformat": 4,
 "nbformat_minor": 2
}
