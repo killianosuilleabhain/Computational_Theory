{
 "cells": [
  {
   "cell_type": "markdown",
   "metadata": {},
   "source": [
    "# Countdown & Computational Theory\n",
    "#### By Killian O'Suilleabhain"
   ]
  },
  {
   "cell_type": "markdown",
   "metadata": {},
   "source": [
    "# Table of Contents\n",
    "* [Introduction](#chapter1)\n",
    "    * [What is the Countdown](#section_1_1)\n",
    "    * [What is the Number Game](#section_1_2)\n",
    "* [Chapter 2](#chapter2)\n",
    "    * [Section 2.1](#section_2_1)\n",
    "* [Chapter 3](#chapter3)\n",
    "    * [Section 3.1](#section_3_1)\n",
    "    \n",
    "* [References](#chapterX)\n",
    "    * [Helpful Videos](#section_3_1)"
   ]
  },
  {
   "cell_type": "markdown",
   "metadata": {},
   "source": [
    "## Introduction <a class=\"anchor\" id=\"chapter1\"></a>\n",
    "In this Jupyter notebook, our primary aim is to dissect and resolve the numbers game featured in the Countdown TV program. Through the application of diverse computational methods, we will provide detailed explanations for each step involved in the solution process. Furthermore, our exploration extends to investigating the computational complexity inherent in the game, contributing valuable insights to ongoing research in this domain."
   ]
  },
  {
   "cell_type": "markdown",
   "metadata": {},
   "source": [
    "### What is the Countdown <a id=\"section_1_1\"></a>\n",
    "Countdowm is a popular british TV show which has been broadcast on Channel 4 since 1982 with this it has had over 8000 episodes and is one of Britains most beloved shows with its fun attitude and its catchy 30 secound timer. Countdown consists of the letters rounds, in which they attempt to make the longest word possible from nine randomly chosen letters. The numbers rounds, in which they must use arithmetic to reach a random target figure from six other numbers. Finally the conundrum in which the contestants compete to solve a nine-letter anagram.  "
   ]
  },
  {
   "cell_type": "markdown",
   "metadata": {},
   "source": [
    "### What is the Number Game <a id=\"section_1_2\"></a>\n",
    "In the numbers game contestants are presented with a selection of six numbers and a target number. The goal is to use the six numbers through basic arithmetic operations (addition, subtraction, multiplication, and division) to reach the target number. Contestants can use each of the six numbers exactly once, and they must use at least one of the basic operations in their solution."
   ]
  },
  {
   "cell_type": "markdown",
   "metadata": {},
   "source": [
    "## References <a class=\"anchor\" id=\"chapterX\"></a>"
   ]
  }
 ],
 "metadata": {
  "kernelspec": {
   "display_name": "Python 3",
   "language": "python",
   "name": "python3"
  },
  "language_info": {
   "codemirror_mode": {
    "name": "ipython",
    "version": 3
   },
   "file_extension": ".py",
   "mimetype": "text/x-python",
   "name": "python",
   "nbconvert_exporter": "python",
   "pygments_lexer": "ipython3",
   "version": "3.12.0"
  }
 },
 "nbformat": 4,
 "nbformat_minor": 2
}
